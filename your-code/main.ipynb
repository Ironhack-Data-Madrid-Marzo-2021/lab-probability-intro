{
 "cells": [
  {
   "cell_type": "markdown",
   "metadata": {},
   "source": [
    "# Probability"
   ]
  },
  {
   "cell_type": "markdown",
   "metadata": {},
   "source": [
    "## Challenge 1\n",
    "There is a box with 10 white balls, 12 red balls and 8 black balls. Calculate the probability of:\n",
    "* Taking a white ball out.\n",
    "* Taking a white ball on first extraction and a black ball out on second extraction without replacing the first one.\n",
    "* Taking a white ball on first extraction and a black ball out on second extraction replacing the first one.\n",
    "* Taking 3 balls and them being all different colours."
   ]
  },
  {
   "cell_type": "markdown",
   "metadata": {},
   "source": [
    " $P(\\text{white}) = \\frac{1}{3} = 0.33$\n",
    " \n",
    " $P(\\text{white} \\cap \\text{black}) = \\frac{10}{30} · \\frac{8}{29} = \\frac{8}{87} = 0.09195$ (without replacement)\n",
    " \n",
    " $P(\\text{white} \\cap \\text{black}) = \\frac{10}{30} · \\frac{8}{30} = \\frac{8}{90} = 0.0888$ (with replacement)\n",
    "\n",
    " $P(\\text{three_differents} \\cap \\text{black}) = \\frac{960}{24360} · 6 = 0.2364$"
   ]
  },
  {
   "cell_type": "markdown",
   "metadata": {},
   "source": [
    "$$\\text{Black-Red-White} -> \\frac{8}{30} · \\frac{12}{29} · \\frac{10}{28} =  \\frac{960}{24360}$$\n",
    "\n",
    "$$\\text{Black-White-Red} -> \\frac{8}{30} · \\frac{10}{29} · \\frac{12}{28} =  \\frac{960}{24360}$$\n",
    "\n",
    "$$\\text{White-Red-Black} -> \\frac{10}{30} · \\frac{12}{29} · \\frac{8}{28} =  \\frac{960}{24360}$$\n",
    "\n",
    "$$\\text{White-Black-Red} -> \\frac{10}{30} · \\frac{8}{29} · \\frac{12}{28} =  \\frac{960}{24360}$$\n",
    "\n",
    "$$\\text{Red-Black-White} -> \\frac{12}{30} · \\frac{8}{29} · \\frac{10}{28} =  \\frac{960}{24360}$$\n",
    "\n",
    "$$\\text{Red-White-Black} -> \\frac{12}{30} · \\frac{10}{29} · \\frac{8}{28} =  \\frac{960}{24360}$$\n"
   ]
  },
  {
   "cell_type": "markdown",
   "metadata": {},
   "source": [
    "## Challenge 2\n",
    "\n",
    "You want to go on picnic on Saturday. You hate rain, and would know to plan your weekend. To help you make a decision, you gather the following data about rainy days:\n",
    "\n",
    "* 40% of all days are cloudy.\n",
    "* About 50% of cloudy days are rainy. \n",
    "* About 20% of non-cloudy days are rainy.\n",
    "\n",
    "What is the chance of rain during next Saturday?"
   ]
  },
  {
   "cell_type": "markdown",
   "metadata": {},
   "source": [
    "* $P(cloudy)=0.4$  \n",
    "* $P(\\overline{cloudy})=0.6$  \n",
    "* $P(rainy|cloudy)=0.5$  \n",
    "* $P(\\overline{rainy}|cloudy)=0.5$  \n",
    "* $P(rainy|\\overline{cloudy})=0.2$   \n",
    "* $P(\\overline{rainy}|\\overline{cloudy})=0.8$"
   ]
  },
  {
   "cell_type": "markdown",
   "metadata": {},
   "source": [
    "$P(rains-Saturday) = P(cloudy) · P(rainy|cloudy) + P(\\overline{cloudy})· P(rainy|\\overline{cloudy}) $  "
   ]
  },
  {
   "cell_type": "markdown",
   "metadata": {},
   "source": [
    "$P(rains-Saturday) = 0.4 · 0.5 + 0.6 · 0.2 = 0.32$  "
   ]
  },
  {
   "cell_type": "markdown",
   "metadata": {},
   "source": [
    "## Challenge 3\n",
    "\n",
    "A and B are events of a probability such that $P(A) = 0.3$, $P(B) = 0.6$ and $P(A \\cap B) = 0.1$\n",
    "\n",
    "Which of the following statements are true?  \n",
    "**HINT: draw a big Venn Diagram by your side**  \n",
    "* $P(\\overline{A}) = 0.7$ ✔️\n",
    "* $P(A \\cup B) = 0.6$ ✖️ $P(A \\cup B) = P(A) + P(B) - P(A \\cap B) = 0.8$\n",
    "* $P(A \\cap \\overline{B}) = 0.2$ ✔️\n",
    "* $P(A \\cup \\overline{A}) = 1$  ✔️\n",
    "* $P(A \\cap (B \\cup \\overline{B})) = 0.4$ ✖️ $P(A \\cap (B \\cup \\overline{B})) = P(A) = 0.3$\n",
    "* $P(\\overline{A} \\cap \\overline{B}) = 0.3$ ✖️ $P(\\overline{A} \\cap \\overline{B}) = 1 - P(A \\cup B) = 0.2$\n",
    "* $P(\\overline{A \\cap B}) = 0.9$ ✔️"
   ]
  },
  {
   "cell_type": "markdown",
   "metadata": {},
   "source": [
    "<img src=\"https://www.researchgate.net/publication/332453167/figure/fig1/AS:748486492450816@1555464494152/A-Venn-diagram-of-unions-and-intersections-for-two-sets-A-and-B-and-their-complements.png\" width=500>"
   ]
  },
  {
   "cell_type": "markdown",
   "metadata": {},
   "source": [
    "## Challenge 4\n",
    "\n",
    " * If someone flies to China, the probability of getting Covid is 1%  \n",
    " * If someone flies to Italy, the probability of getting Covid is 20%  \n",
    "\n",
    "I roll 1 dice with numbers 1, 2, 3, 4, 5, 6:  \n",
    " * If 1: I fly to Italy\n",
    " * If not 1: I fly to China\n",
    "\n",
    "During my trip, I got Covid. What is the probability that I flew to China?"
   ]
  },
  {
   "cell_type": "markdown",
   "metadata": {},
   "source": [
    "$P(COVID|China) = 0.01$  \n",
    "\n",
    "$P(COVID|Italy) = 0.2$  \n",
    "\n",
    "$P(Italy) = \\frac{1}{6}$    \n",
    "\n",
    "$P(China) = \\frac{5}{6}$  \n",
    "\n",
    "$P(COVID) = P(China) · P(COVID|China) + P(Italy) · P(COVID|Italy) = \\frac{5}{6} · 0.01 + \\frac{1}{6} · 0.2 = 0.0416$\n",
    "\n",
    "$P(China|COVID) = \\frac {P(COVID|China) · P(China)}{P(COVID)} = \\frac {0.01 · 0.8333 }{0.0416} = 0.2$"
   ]
  },
  {
   "cell_type": "markdown",
   "metadata": {},
   "source": [
    "## BONUS\n",
    "\n",
    "You roll 2 dice. What is the probability that the sum of the numbers is 7? And 8? And 9? Then simulate 10000 times and draw a countplot."
   ]
  },
  {
   "cell_type": "markdown",
   "metadata": {},
   "source": [
    "your explanation here"
   ]
  },
  {
   "cell_type": "markdown",
   "metadata": {},
   "source": [
    "$P(SUM7) = P(1)·P(6) + P(2)·P(5) + P(3)·P(4) + P(4)·P(3) + P(5)·P(2) + P(6)·P(1) = \\frac{6}{36} = \\frac{1}{6}$  \n",
    "\n",
    "$P(SUM8) = P(2)·P(6) + P(3)·P(5) + P(4)·P(4) + P(5)·P(3) + P(6)·P(2) = \\frac{5}{36}$  \n",
    "\n",
    "$P(SUM9) = P(3)·P(6) + P(4)·P(5) + P(5)·P(4) + P(6)·P(3) = \\frac{4}{36} = \\frac{1}{9}$  \n"
   ]
  },
  {
   "cell_type": "code",
   "execution_count": 59,
   "metadata": {},
   "outputs": [
    {
     "data": {
      "text/plain": [
       "Text(0, 0.5, 'frequency')"
      ]
     },
     "execution_count": 59,
     "metadata": {},
     "output_type": "execute_result"
    },
    {
     "data": {
      "image/png": "[encoded data removed]",
      "text/plain": [
       "<Figure size 432x288 with 1 Axes>"
      ]
     },
     "metadata": {
      "needs_background": "light"
     },
     "output_type": "display_data"
    }
   ],
   "source": [
    "import random\n",
    "import seaborn as sns\n",
    "import matplotlib.pyplot as plt\n",
    "import pandas as pd\n",
    "\n",
    "def dice(n):\n",
    "    count = []\n",
    "    for i in range(n):\n",
    "        x=random.randint(1,6)\n",
    "        y=random.randint(1,6)\n",
    "        z=x+y\n",
    "        count.append(z)\n",
    "    return count\n",
    "result = dice(10_000)\n",
    "\n",
    "plt.hist(result, alpha=0.5, bins=11)\n",
    "plt.xlabel('Sum of 2 dices')\n",
    "plt.ylabel('frequency')"
   ]
  },
  {
   "cell_type": "code",
   "execution_count": 67,
   "metadata": {},
   "outputs": [
    {
     "name": "stdout",
     "output_type": "stream",
     "text": [
      "Experimental: P(SUM7) = 0.17 \n",
      "Theoretical: P(SUM7) = 0.167\n",
      "\n",
      "\n",
      "Experimental: P(SUM8) = 0.138 \n",
      "Theoretical: P(SUM7) = 0.139\n",
      "\n",
      "\n",
      "Experimental: P(SUM9) = 0.1 \n",
      "Theoretical: P(SUM7) = 0.111\n",
      "\n",
      "\n"
     ]
    }
   ],
   "source": [
    "print(f\"Experimental: P(SUM7) = {round(1700/10_000,3)} \\nTheoretical: P(SUM7) = {round(1/6,3)}\\n\\n\")\n",
    "print(f\"Experimental: P(SUM8) = {round(1375/10_000,3)} \\nTheoretical: P(SUM7) = {round(5/36,3)}\\n\\n\")\n",
    "print(f\"Experimental: P(SUM9) = {round(1000/10_000,3)} \\nTheoretical: P(SUM7) = {round(1/9,3)}\\n\\n\")"
   ]
  },
  {
   "cell_type": "code",
   "execution_count": null,
   "metadata": {},
   "outputs": [],
   "source": []
  }
 ],
 "metadata": {
  "kernelspec": {
   "display_name": "Python 3",
   "language": "python",
   "name": "python3"
  },
  "language_info": {
   "codemirror_mode": {
    "name": "ipython",
    "version": 3
   },
   "file_extension": ".py",
   "mimetype": "text/x-python",
   "name": "python",
   "nbconvert_exporter": "python",
   "pygments_lexer": "ipython3",
   "version": "3.8.5"
  },
  "toc": {
   "base_numbering": 1,
   "nav_menu": {},
   "number_sections": false,
   "sideBar": true,
   "skip_h1_title": false,
   "title_cell": "Table of Contents",
   "title_sidebar": "Contents",
   "toc_cell": false,
   "toc_position": {
    "height": "calc(100% - 180px)",
    "left": "10px",
    "top": "150px",
    "width": "296.475px"
   },
   "toc_section_display": true,
   "toc_window_display": false
  },
  "varInspector": {
   "cols": {
    "lenName": 16,
    "lenType": 16,
    "lenVar": 40
   },
   "kernels_config": {
    "python": {
     "delete_cmd_postfix": "",
     "delete_cmd_prefix": "del ",
     "library": "var_list.py",
     "varRefreshCmd": "print(var_dic_list())"
    },
    "r": {
     "delete_cmd_postfix": ") ",
     "delete_cmd_prefix": "rm(",
     "library": "var_list.r",
     "varRefreshCmd": "cat(var_dic_list()) "
    }
   },
   "types_to_exclude": [
    "module",
    "function",
    "builtin_function_or_method",
    "instance",
    "_Feature"
   ],
   "window_display": false
  }
 },
 "nbformat": 4,
 "nbformat_minor": 2
}
