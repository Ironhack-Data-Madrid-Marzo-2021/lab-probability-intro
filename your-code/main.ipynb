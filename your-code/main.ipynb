{
 "cells": [
  {
   "cell_type": "markdown",
   "metadata": {},
   "source": [
    "# Probability"
   ]
  },
  {
   "cell_type": "markdown",
   "metadata": {},
   "source": [
    "## Challenge 1\n",
    "There is a box with 10 white balls, 12 red balls and 8 black balls. Calculate the probability of:\n",
    "* Taking a white ball out.\n",
    "* Taking a white ball on first extraction and a black ball out on second extraction without replacing the first one.\n",
    "* Taking a white ball on first extraction and a black ball out on second extraction replacing the first one.\n",
    "* Taking 3 balls and them being all different colours.\n",
    "\n",
    "\n",
    "\n"
   ]
  },
  {
   "cell_type": "code",
   "execution_count": 1,
   "metadata": {},
   "outputs": [
    {
     "output_type": "stream",
     "name": "stdout",
     "text": [
      "La probabilidad de blancas:  0.333\n"
     ]
    }
   ],
   "source": [
    "#contamos las bolas\n",
    "white = 10\n",
    "red = 12\n",
    "black = 8\n",
    "total = white + red + black\n",
    "\n",
    "\n",
    "p_white = white / total\n",
    "p_red = red / total\n",
    "p_black= black / total\n",
    "\n",
    "\n",
    "print(\"La probabilidad de blancas: \",round(p_white,3))\n"
   ]
  },
  {
   "source": [
    "$$P(white)=\\frac{numwhite}{total}$$"
   ],
   "cell_type": "markdown",
   "metadata": {}
  },
  {
   "cell_type": "code",
   "execution_count": 2,
   "metadata": {},
   "outputs": [
    {
     "output_type": "stream",
     "name": "stdout",
     "text": [
      "la probabilidad de sacar una blanca y sin volver a ponerla sacar una negra es de:  0.092\n"
     ]
    }
   ],
   "source": [
    "P2=p_white* black/(total-1)\n",
    "print(\"la probabilidad de sacar una blanca y sin volver a ponerla sacar una negra es de: \", round(P2,3))"
   ]
  },
  {
   "source": [
    "$$S=\\{white, black\\} note replacing$$\n",
    "$$P(s)=P(white)·P(black|white)$$"
   ],
   "cell_type": "markdown",
   "metadata": {}
  },
  {
   "cell_type": "code",
   "execution_count": 3,
   "metadata": {},
   "outputs": [
    {
     "output_type": "stream",
     "name": "stdout",
     "text": [
      "la probabilidad de sacar una blanca, volver a ponerla y sacar una negra es de:  0.089\n"
     ]
    }
   ],
   "source": [
    "P3=p_white * p_black\n",
    "print(\"la probabilidad de sacar una blanca, volver a ponerla y sacar una negra es de: \", round(P3,3))"
   ]
  },
  {
   "source": [
    "$$S=\\{white, black\\}  replacing$$\n",
    "$$P(s)=P(white)·P(black)$$"
   ],
   "cell_type": "markdown",
   "metadata": {}
  },
  {
   "cell_type": "markdown",
   "metadata": {},
   "source": [
    "## Challenge 2\n",
    "\n",
    "You want to go on picnic on Saturday. You hate rain, and would know to plan your weekend. To help you make a decision, you gather the following data about rainy days:\n",
    "\n",
    "* 40% of all days are cloudy.\n",
    "* About 50% of cloudy days are rainy. \n",
    "* About 20% of non-cloudy days are rainy.\n",
    "\n",
    "What is the chance of rain during next Saturday?"
   ]
  },
  {
   "cell_type": "code",
   "execution_count": 4,
   "metadata": {},
   "outputs": [],
   "source": [
    "p_cloudy = 40/100\n",
    "p_no_cloudy=60/100\n",
    "p_rain_cloudy = 50/100\n",
    "p_rain_non_cloudy = 20/100"
   ]
  },
  {
   "source": [
    "$$P(rain)=P(cloudy)·P(rain|cloudy) + P(\\overline{cloudy}) · P(rain|\\overline{cloudy}))$$"
   ],
   "cell_type": "markdown",
   "metadata": {}
  },
  {
   "cell_type": "code",
   "execution_count": 5,
   "metadata": {},
   "outputs": [],
   "source": [
    "p_rain = p_cloudy * p_rain_cloudy + p_no_cloudy * p_rain_non_cloudy"
   ]
  },
  {
   "cell_type": "code",
   "execution_count": 6,
   "metadata": {},
   "outputs": [
    {
     "output_type": "stream",
     "name": "stdout",
     "text": [
      "La probabilidad de que llueva el sábado es:  0.32\n"
     ]
    }
   ],
   "source": [
    "print(\"La probabilidad de que llueva el sábado es: \", p_rain)"
   ]
  },
  {
   "cell_type": "markdown",
   "metadata": {},
   "source": [
    "## Challenge 3\n",
    "\n",
    "A and B are events of a probability such that $P(A) = 0.3$, $P(B) = 0.6$ and $P(A \\cap B) = 0.1$\n",
    "\n",
    "Which of the following statements are true?  \n",
    "**HINT: draw a big Venn Diagram by your side**  \n",
    "* $P(\\overline{A}) = 0.7$\n",
    "* $P(A \\cup B) = 0.6$\n",
    "* $P(A \\cap \\overline{B}) = 0.2$\n",
    "* $P(A \\cup \\overline{A}) = 1$  \n",
    "* $P(A \\cap (B \\cup \\overline{B})) = 0.4$\n",
    "* $P(\\overline{A} \\cap \\overline{B}) = 0.3$\n",
    "* $P(\\overline{A \\cap B}) = 0.9$"
   ]
  },
  {
   "cell_type": "code",
   "execution_count": 7,
   "metadata": {},
   "outputs": [],
   "source": [
    "P_A = 0.3\n",
    "P_B = 0.6\n",
    "P_AintB = 0.1"
   ]
  },
  {
   "cell_type": "code",
   "execution_count": 8,
   "metadata": {
    "scrolled": true
   },
   "outputs": [
    {
     "output_type": "stream",
     "name": "stdout",
     "text": [
      "1-CIERTO\nLa probabilidad de NO A es: 0.7\n2- NO CIERTO\nLa probabilidad de A UNION B es:  0.8\n3- CIERTO\nLa probabilidad de A intersección NO B es:  0.2\n4- CIERTO\nLa probabilidad de A UNION NO A es 1\n5- NO CIERTO\nLa probabilidad de A INTERSECCIÓN (B UNIÓN NO B) es PA:  0.3\n6- NO CIERTO\nLa probabilidad de NO A INTERSECCIÓN NO B es:  0.2\n7- CIERTO\nLa probabilidad de NO (A INTERSECCIÓN B) es:  0.9\n"
     ]
    }
   ],
   "source": [
    "P_no_A=1-P_A\n",
    "print(\"1-CIERTO\")\n",
    "print(\"La probabilidad de NO A es:\", P_no_A)\n",
    "\n",
    "P_AunionB = P_A + P_B - P_AintB\n",
    "print(\"2- NO CIERTO\")\n",
    "print(\"La probabilidad de A UNION B es: \", round(P_AunionB,2))\n",
    "\n",
    "P_AintNOB = P_A - P_AintB\n",
    "print(\"3- CIERTO\")\n",
    "print(\"La probabilidad de A intersección NO B es: \", round(P_AintNOB,1))\n",
    "\n",
    "print(\"4- CIERTO\")\n",
    "print(\"La probabilidad de A UNION NO A es 1\")\n",
    "\n",
    "print(\"5- NO CIERTO\")\n",
    "print(\"La probabilidad de A INTERSECCIÓN (B UNIÓN NO B) es PA: \", P_A)\n",
    "\n",
    "P_noA_int_noB= 1 - P_A - P_B + P_AintB\n",
    "print(\"6- NO CIERTO\")\n",
    "print(\"La probabilidad de NO A INTERSECCIÓN NO B es: \", round(P_noA_int_noB,2))\n",
    "\n",
    "P_no_aintb = 1 - P_AintB\n",
    "print(\"7- CIERTO\")\n",
    "print(\"La probabilidad de NO (A INTERSECCIÓN B) es: \", round(P_no_aintb,2))"
   ]
  },
  {
   "source": [
    " \n",
    "$$P(\\overline{A}) = 1 - P(A) = 1 - 0.3 = 0.7$$\n",
    "\n",
    "$$ P(A \\cup B)=P(A) + P(B) - P(A \\cap B) = 0.3 + 0.6 -0.1 = 0.8$$\n",
    "\n",
    "$$P(A\\cap\\overline{B})= P(A) - P(A \\cap B) = 0.3 - 0.1 = 0.2$$\n",
    "\n",
    "$$P(A \\cup \\overline{A}) =1$$\n",
    "\n",
    "$$P(A \\cap (B \\cup \\overline{B}))= P(A) = 0.3$$\n",
    "\n",
    "$$P(\\overline{A} \\cap \\overline{B}) = 1 - P(A) - P(B) + P(B \\cap A) = 1 - 0.3 - 0.6 + 0.1 = 0.2$$\n",
    "\n",
    "$$P(\\overline{A \\cap B}) = 1 - P(A \\cap U) = 1 - 0.1 = 0.9 $$\n"
   ],
   "cell_type": "markdown",
   "metadata": {}
  },
  {
   "cell_type": "markdown",
   "metadata": {},
   "source": [
    "## Challenge 4\n",
    "\n",
    " * If someone flies to China, the probability of getting Covid is 1%  \n",
    " * If someone flies to Italy, the probability of getting Covid is 20%  \n",
    "\n",
    "I roll 1 dice with numbers 1, 2, 3, 4, 5, 6:  \n",
    " * If 1: I fly to Italy\n",
    " * If not 1: I fly to China\n",
    "\n",
    "During my trip, I got Covid. What is the probability that I flew to China?"
   ]
  },
  {
   "cell_type": "code",
   "execution_count": 9,
   "metadata": {},
   "outputs": [],
   "source": [
    "P_vir_Ch=1/100\n",
    "P_vir_I=20/100\n",
    "P_Ita=1/6\n",
    "\n",
    "P_Ch = 1 - P_Ita\n",
    "\n",
    "P_vir = P_Ch * P_vir_Ch + P_Ita * P_vir_I\n",
    "#Bayes\n",
    "P_Ch_vir = P_vir_Ch * P_Ch / P_vir\n"
   ]
  },
  {
   "source": [
    "$$P(covid|China) = \\frac{1}{100}$$\n",
    "$$P(covid|Italia) = \\frac{20}{100}$$\n",
    "\n",
    "$$P(Italia) = \\frac{1}{6}$$\n",
    "\n",
    "$$P(China) = 1- \\frac{1}{6} = \\frac{5}{6} $$\n",
    "\n",
    "$$P(covid) = P(China) · P(covid|China) + P(Italia) · P(covid|Italia)$$\n",
    "\n",
    "$$P(China|covid) = P(covid|China) · \\frac{P(China)}{P(covid)}$$\n"
   ],
   "cell_type": "markdown",
   "metadata": {}
  },
  {
   "cell_type": "code",
   "execution_count": 10,
   "metadata": {},
   "outputs": [
    {
     "output_type": "stream",
     "name": "stdout",
     "text": [
      "La probabilidad de haber viajado a China, habiéndome contagiado es:  0.2\n"
     ]
    }
   ],
   "source": [
    "print(\"La probabilidad de haber viajado a China, habiéndome contagiado es: \", P_Ch_vir)"
   ]
  },
  {
   "cell_type": "markdown",
   "metadata": {},
   "source": [
    "## BONUS\n",
    "\n",
    "You roll 2 dice. What is the probability that the sum of the numbers is 7? And 8? And 9? Then simulate 10000 times and draw a countplot."
   ]
  },
  {
   "cell_type": "markdown",
   "metadata": {},
   "source": [
    "n=6\n",
    "\n",
    "#La probabilidad de que sume 7:\n",
    "\n",
    "Posibilidadesdes totales=n*n=36\n",
    "$$S(sum=7) = \\{ (1, 6) , (6, 1) , (3, 4), (4, 3), (2, 5), (5, 2)\\}$$\n",
    "$$ P(suma7) = \\frac{6}{36} $$\n",
    "\n",
    "\n",
    "#La probabilidad de que sume 8:\n",
    "\n",
    "Posibilidadesdes totales=n*n=36\n",
    "$$S(sum=8) = \\{ (2, 6) , (6, 2) , (3, 5), (5, 3), (4, 4)\\}$$\n",
    "$$ P(suma8) = \\frac{5}{36} $$\n",
    "\n",
    "\n",
    "\n",
    "#La probabilidad de que sume 9:\n",
    "\n",
    "Posibilidadesdes totales=n*n=36\n",
    "$$S(sum=9) = \\{ (6, 2) , (3, 6) , (4, 5), (5, 4)\\}$$\n",
    "$$ P(suma9) = \\frac{4}{36} $$\n",
    "\n"
   ]
  },
  {
   "cell_type": "code",
   "execution_count": 11,
   "metadata": {},
   "outputs": [],
   "source": [
    "from random import choice\n",
    "import matplotlib.pyplot as plt\n",
    "import numpy as np\n",
    "k=10000\n",
    "\n",
    "def experimento(num, k=100):\n",
    "    dado=range(1,7)\n",
    "\n",
    "    sol={7:round(6/36,4), 8:round(5/36,4), 9:round(4/36,4)}\n",
    "    solucion=sol[num]\n",
    "    cont=0\n",
    "    probabilidad=[]\n",
    "    sumas=[]\n",
    "    for i in range(1,k+1):\n",
    "        dado1=choice(dado)\n",
    "        dado2=choice(dado)\n",
    "        \n",
    "        if dado1 + dado2 == num:\n",
    "            cont+=1\n",
    "\n",
    "        probabilidad.append(cont/i)\n",
    "        sumas.append(dado1+dado2)\n",
    "    \n",
    "    P_experimental=cont/k\n",
    "    \n",
    "\n",
    "    fig = plt.figure()\n",
    "    ax = fig.add_axes([0,0,1,1])\n",
    "    experimentos = list(range(1,k+1))\n",
    "    ax.bar(experimentos,probabilidad)\n",
    "    ax.set_ylim(0, solucion*2)\n",
    "    plt.plot([0,k],[solucion, solucion], color='red',  label='Probailidad teórica')\n",
    "    plt.xlabel('Número de experimentos')\n",
    "    plt.ylabel('Número de aparaciones de la suma/num de experimento')\n",
    "    plt.legend()\n",
    "    plt.show()\n",
    "\n",
    "    plt.hist(sumas,bins=11) \n",
    "    plt.xlabel('Suma')\n",
    "    plt.ylabel('Número de apariciones')\n",
    "\n",
    "    print(\"Suma = \", num)\n",
    "    print(\"La probabilidad experimental \", round(P_experimental,4), \" debería parecerser a nuestra solución: \",solucion)"
   ]
  },
  {
   "cell_type": "code",
   "execution_count": 15,
   "metadata": {},
   "outputs": [],
   "source": [
    "experimento(7,k)"
   ]
  },
  {
   "cell_type": "code",
   "execution_count": null,
   "metadata": {},
   "outputs": [],
   "source": [
    "experimento(8,k)"
   ]
  },
  {
   "cell_type": "code",
   "execution_count": null,
   "metadata": {},
   "outputs": [],
   "source": [
    "experimento(9,k)"
   ]
  },
  {
   "cell_type": "code",
   "execution_count": null,
   "metadata": {},
   "outputs": [],
   "source": []
  },
  {
   "cell_type": "code",
   "execution_count": null,
   "metadata": {},
   "outputs": [],
   "source": []
  }
 ],
 "metadata": {
  "kernelspec": {
   "display_name": "Python 3",
   "language": "python",
   "name": "python3"
  },
  "language_info": {
   "codemirror_mode": {
    "name": "ipython",
    "version": 3
   },
   "file_extension": ".py",
   "mimetype": "text/x-python",
   "name": "python",
   "nbconvert_exporter": "python",
   "pygments_lexer": "ipython3",
   "version": "3.8.5"
  },
  "toc": {
   "base_numbering": 1,
   "nav_menu": {},
   "number_sections": false,
   "sideBar": true,
   "skip_h1_title": false,
   "title_cell": "Table of Contents",
   "title_sidebar": "Contents",
   "toc_cell": false,
   "toc_position": {
    "height": "calc(100% - 180px)",
    "left": "10px",
    "top": "150px",
    "width": "296.475px"
   },
   "toc_section_display": true,
   "toc_window_display": false
  },
  "varInspector": {
   "cols": {
    "lenName": 16,
    "lenType": 16,
    "lenVar": 40
   },
   "kernels_config": {
    "python": {
     "delete_cmd_postfix": "",
     "delete_cmd_prefix": "del ",
     "library": "var_list.py",
     "varRefreshCmd": "print(var_dic_list())"
    },
    "r": {
     "delete_cmd_postfix": ") ",
     "delete_cmd_prefix": "rm(",
     "library": "var_list.r",
     "varRefreshCmd": "cat(var_dic_list()) "
    }
   },
   "types_to_exclude": [
    "module",
    "function",
    "builtin_function_or_method",
    "instance",
    "_Feature"
   ],
   "window_display": false
  }
 },
 "nbformat": 4,
 "nbformat_minor": 2
}