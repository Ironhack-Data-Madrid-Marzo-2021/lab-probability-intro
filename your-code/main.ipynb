{
 "cells": [
  {
   "cell_type": "markdown",
   "metadata": {},
   "source": [
    "# Probability"
   ]
  },
  {
   "cell_type": "markdown",
   "metadata": {},
   "source": [
    "## Challenge 1\n",
    "There is a box with 10 white balls, 12 red balls and 8 black balls. Calculate the probability of:\n",
    "* Taking a white ball out.\n",
    "* Taking a white ball on first extraction and a black ball out on second extraction without replacing the first one.\n",
    "* Taking a white ball on first extraction and a black ball out on second extraction replacing the first one.\n",
    "* Taking 3 balls and them being all different colours."
   ]
  },
  {
   "cell_type": "code",
   "execution_count": 20,
   "metadata": {},
   "outputs": [
    {
     "name": "stdout",
     "output_type": "stream",
     "text": [
      "Probability of taking a white ball out is: 33.33 %\n",
      "Probability of taking a white ball on first extraction and a black ball out on second extraction without replacing the first one: 9.2 %\n",
      "Probabiity of taking a white ball on first extraction and a black ball out on second extraction replacing the first one: 8.89 %\n",
      "Probability of taking 3 balls and them being all different colours: 23.65 %\n"
     ]
    }
   ],
   "source": [
    "white = 10\n",
    "red = 12\n",
    "black = 8\n",
    "total = 30\n",
    "\n",
    "# Taking a white ball out.\n",
    "p_white = 10/30\n",
    "print(f\"Probability of taking a white ball out is:\", round((p_white * 100),2),\"%\")\n",
    "\n",
    "# Taking a white ball on first extraction and a black ball out on second extraction without replacing the first one.\n",
    "p_white_black_wr = 10/30 * 8/29\n",
    "print(f\"Probability of taking a white ball on first extraction and a black ball out on second extraction without replacing the first one:\", round((p_white_black_wr * 100),2),\"%\")\n",
    "\n",
    "# Taking a white ball on first extraction and a black ball out on second extraction replacing the first one.\n",
    "p_white_black_r = 10/30 * 8/30\n",
    "print(f\"Probabiity of taking a white ball on first extraction and a black ball out on second extraction replacing the first one:\", round((p_white_black_r * 100),2),\"%\")\n",
    "\n",
    "# Taking 3 balls and them being all different colours.\n",
    "# p_dif = 3! *(10/30 * 12/29 * 8/28)\n",
    "p_dif = 6 *(10/30 * 12/29 * 8/28)\n",
    "print(f\"Probability of taking 3 balls and them being all different colours:\", round((p_dif * 100),2),\"%\")"
   ]
  },
  {
   "cell_type": "markdown",
   "metadata": {},
   "source": [
    "## Challenge 2\n",
    "\n",
    "You want to go on picnic on Saturday. You hate rain, and would know to plan your weekend. To help you make a decision, you gather the following data about rainy days:\n",
    "\n",
    "* 40% of all days are cloudy.\n",
    "* About 50% of cloudy days are rainy. \n",
    "* About 20% of non-cloudy days are rainy.\n",
    "\n",
    "What is the chance of rain during next Saturday?"
   ]
  },
  {
   "cell_type": "code",
   "execution_count": 5,
   "metadata": {},
   "outputs": [
    {
     "name": "stdout",
     "output_type": "stream",
     "text": [
      "Chance of rain during next Saturday is: 32.0 %\n"
     ]
    }
   ],
   "source": [
    "Cloudy = 0.4\n",
    "cloudy_rainy = 0.5\n",
    "non_cloudy_rainy = 0.2\n",
    "\n",
    "prob_rainy = (0.4 * 0.5) + (0.6 * 0.2)\n",
    "print(f\"Chance of rain during next Saturday is:\", round((prob_rainy* 100),2),\"%\")"
   ]
  },
  {
   "cell_type": "markdown",
   "metadata": {},
   "source": [
    "## Challenge 3\n",
    "\n",
    "A and B are events of a probability such that $P(A) = 0.3$, $P(B) = 0.6$ and $P(A \\cap B) = 0.1$\n",
    "\n",
    "Which of the following statements are true?  \n",
    "**HINT: draw a big Venn Diagram by your side**  \n",
    "* $P(\\overline{A}) = 0.7$\n",
    "* $P(A \\cup B) = 0.6$\n",
    "* $P(A \\cap \\overline{B}) = 0.2$\n",
    "* $P(A \\cup \\overline{A}) = 1$  \n",
    "* $P(A \\cap (B \\cup \\overline{B})) = 0.4$\n",
    "* $P(\\overline{A} \\cap \\overline{B}) = 0.3$\n",
    "* $P(\\overline{A \\cap B}) = 0.9$"
   ]
  },
  {
   "cell_type": "markdown",
   "metadata": {},
   "source": [
    "* $P(\\overline{A}) = 0.7$ : 1 - 0.3 = 0.7 (TRUE)\n",
    "* $P(A \\cup B) = 0.6$ : 0.3 + 0.6 - 0.1 = 0.8 (FALSE)\n",
    "* $P(A \\cap \\overline{B}) = 0.2$ : 0.3 - 0.1 = 0.2 (TRUE)\n",
    "* $P(A \\cup \\overline{A}) = 1$ : 0.3 + 0.7 = 1 (TRUE)\n",
    "* $P(A \\cap (B \\cup \\overline{B})) = 0.4$ : 0.3 (FALSE)\n",
    "* $P(\\overline{A} \\cap \\overline{B}) = 0.3$ : 1 - 0.8 = 0.2 (FALSE)\n",
    "* $P(\\overline{A \\cap B}) = 0.9$ : 1 - 0.1 = 0.9 (TRUE)"
   ]
  },
  {
   "cell_type": "markdown",
   "metadata": {},
   "source": [
    "## Challenge 4\n",
    "\n",
    " * If someone flies to China, the probability of getting Covid is 1%  \n",
    " * If someone flies to Italy, the probability of getting Covid is 20%  \n",
    "\n",
    "I roll 1 dice with numbers 1, 2, 3, 4, 5, 6:  \n",
    " * If 1: I fly to Italy\n",
    " * If not 1: I fly to China\n",
    "\n",
    "During my trip, I got Covid. What is the probability that I flew to China?"
   ]
  },
  {
   "cell_type": "markdown",
   "metadata": {},
   "source": [
    "### China\n",
    "- Fly to China = 5 / 6 = 0.83\n",
    "- Getting Covid in China = 1 / 100 = 0.1\n",
    "\n",
    "\n",
    "### Italy\n",
    "- Fly to Italy = 1 / 6 = 0.16\n",
    "- Getting Covid in Italy = 20 / 100 = 0.2\n"
   ]
  },
  {
   "cell_type": "code",
   "execution_count": 9,
   "metadata": {},
   "outputs": [
    {
     "name": "stdout",
     "output_type": "stream",
     "text": [
      "Having Covid, probability of getting it in China is: 20.6 %\n"
     ]
    }
   ],
   "source": [
    "prob_fly_china = (0.83 * 0.01) / ((0.83 * 0.01) + (0.16 * 0.2))\n",
    "print(f\"Having Covid, probability of getting it in China is:\", round((prob_fly_china* 100),2),\"%\")"
   ]
  },
  {
   "cell_type": "markdown",
   "metadata": {},
   "source": [
    "## BONUS\n",
    "\n",
    "You roll 2 dice. What is the probability that the sum of the numbers is 7? And 8? And 9? Then simulate 10000 times and draw a countplot."
   ]
  },
  {
   "cell_type": "markdown",
   "metadata": {},
   "source": [
    "your explanation here"
   ]
  },
  {
   "cell_type": "code",
   "execution_count": 11,
   "metadata": {},
   "outputs": [],
   "source": [
    "import random\n",
    "import numpy as np\n",
    "import matplotlib.pyplot as plt"
   ]
  },
  {
   "cell_type": "code",
   "execution_count": 12,
   "metadata": {},
   "outputs": [],
   "source": [
    "die = [1, 2, 3, 4, 5, 6]"
   ]
  },
  {
   "cell_type": "code",
   "execution_count": 14,
   "metadata": {},
   "outputs": [],
   "source": [
    "roll1 = random.choices(die, k=10000) \n",
    "roll2 = random.choices(die, k=10000) \n",
    "rolls = list(np.add(roll1,roll2)) "
   ]
  },
  {
   "cell_type": "markdown",
   "metadata": {},
   "source": [
    "#### Probability of the sum of the numbers = 7"
   ]
  },
  {
   "cell_type": "code",
   "execution_count": 15,
   "metadata": {},
   "outputs": [
    {
     "data": {
      "text/plain": [
       "0.1675"
      ]
     },
     "execution_count": 15,
     "metadata": {},
     "output_type": "execute_result"
    }
   ],
   "source": [
    "sum_7 = rolls.count(7) / len(rolls)\n",
    "sum_7"
   ]
  },
  {
   "cell_type": "markdown",
   "metadata": {},
   "source": [
    "#### Probability of the sum of the numbers = 8"
   ]
  },
  {
   "cell_type": "code",
   "execution_count": 16,
   "metadata": {},
   "outputs": [
    {
     "data": {
      "text/plain": [
       "0.1361"
      ]
     },
     "execution_count": 16,
     "metadata": {},
     "output_type": "execute_result"
    }
   ],
   "source": [
    "sum_8 = rolls.count(8) / len(rolls)\n",
    "sum_8"
   ]
  },
  {
   "cell_type": "markdown",
   "metadata": {},
   "source": [
    "#### Probability of the sum of the numbers = 9"
   ]
  },
  {
   "cell_type": "code",
   "execution_count": 17,
   "metadata": {},
   "outputs": [
    {
     "data": {
      "text/plain": [
       "0.1096"
      ]
     },
     "execution_count": 17,
     "metadata": {},
     "output_type": "execute_result"
    }
   ],
   "source": [
    "sum_9 = rolls.count(9) / len(rolls)\n",
    "sum_9"
   ]
  },
  {
   "cell_type": "markdown",
   "metadata": {},
   "source": [
    "#### Countplot of the sums of 2 die throwing them 10000 times"
   ]
  },
  {
   "cell_type": "code",
   "execution_count": 31,
   "metadata": {
    "scrolled": true
   },
   "outputs": [
    {
     "data": {
      "text/plain": [
       "(array([ 274.,  568.,  851., 1105., 1399., 1675., 1361., 1096.,  866.,\n",
       "         533.,  272.]),\n",
       " array([ 2,  3,  4,  5,  6,  7,  8,  9, 10, 11, 12, 13]),\n",
       " <BarContainer object of 11 artists>)"
      ]
     },
     "execution_count": 31,
     "metadata": {},
     "output_type": "execute_result"
    },
    {
     "data": {
      "image/png": "[encoded data removed]",
      "text/plain": [
       "<Figure size 432x288 with 1 Axes>"
      ]
     },
     "metadata": {
      "needs_background": "light"
     },
     "output_type": "display_data"
    }
   ],
   "source": [
    "plt.hist(rolls, bins=list(range(2,14)))"
   ]
  }
 ],
 "metadata": {
  "kernelspec": {
   "display_name": "Python 3",
   "language": "python",
   "name": "python3"
  },
  "language_info": {
   "codemirror_mode": {
    "name": "ipython",
    "version": 3
   },
   "file_extension": ".py",
   "mimetype": "text/x-python",
   "name": "python",
   "nbconvert_exporter": "python",
   "pygments_lexer": "ipython3",
   "version": "3.8.5"
  },
  "toc": {
   "base_numbering": 1,
   "nav_menu": {},
   "number_sections": false,
   "sideBar": true,
   "skip_h1_title": false,
   "title_cell": "Table of Contents",
   "title_sidebar": "Contents",
   "toc_cell": false,
   "toc_position": {
    "height": "calc(100% - 180px)",
    "left": "10px",
    "top": "150px",
    "width": "296.475px"
   },
   "toc_section_display": true,
   "toc_window_display": false
  },
  "varInspector": {
   "cols": {
    "lenName": 16,
    "lenType": 16,
    "lenVar": 40
   },
   "kernels_config": {
    "python": {
     "delete_cmd_postfix": "",
     "delete_cmd_prefix": "del ",
     "library": "var_list.py",
     "varRefreshCmd": "print(var_dic_list())"
    },
    "r": {
     "delete_cmd_postfix": ") ",
     "delete_cmd_prefix": "rm(",
     "library": "var_list.r",
     "varRefreshCmd": "cat(var_dic_list()) "
    }
   },
   "types_to_exclude": [
    "module",
    "function",
    "builtin_function_or_method",
    "instance",
    "_Feature"
   ],
   "window_display": false
  }
 },
 "nbformat": 4,
 "nbformat_minor": 2
}
