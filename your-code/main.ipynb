{
 "cells": [
  {
   "cell_type": "markdown",
   "metadata": {},
   "source": [
    "# Probability"
   ]
  },
  {
   "cell_type": "markdown",
   "metadata": {},
   "source": [
    "## Challenge 1\n",
    "There is a box with 10 white balls, 12 red balls and 8 black balls. Calculate the probability of:\n",
    "* Taking a white ball out.\n",
    "* Taking a white ball on first extraction and a black ball out on second extraction without replacing the first one.\n",
    "* Taking a white ball on first extraction and a black ball out on second extraction replacing the first one.\n",
    "* Taking 3 balls and them being all different colours."
   ]
  },
  {
   "cell_type": "code",
   "execution_count": 1,
   "metadata": {},
   "outputs": [
    {
     "name": "stdout",
     "output_type": "stream",
     "text": [
      "La probabilidad de sacar una bola blanca es: 0.33\n",
      "La probabilidad de sacar una bola blanca y una bola negra es: 0.09\n",
      "La probabilidad del ejercicio 3 es: 0.09\n",
      "La probabilidad del ejercicio 4 es: 0.24\n"
     ]
    }
   ],
   "source": [
    "\"\"\"\n",
    "your solution here\n",
    "\"\"\"\n",
    "w = 10\n",
    "r = 12\n",
    "b = 8\n",
    "\n",
    "ej1 = w/(w+r+b)\n",
    "ej2 = ej1 * b/(w+r+b+-1)\n",
    "ej3 =ej1 * b/(w+r+b)\n",
    "ej4 = (ej2 * r/(w+r+b-2))*6\n",
    "\n",
    "print(f\"La probabilidad de sacar una bola blanca es: {round(ej1,2)}\")\n",
    "print(f\"La probabilidad de sacar una bola blanca y una bola negra es: {round(ej2,2)}\")\n",
    "print(f\"La probabilidad del ejercicio 3 es: {round(ej3,2)}\")\n",
    "print(f\"La probabilidad del ejercicio 4 es: {round(ej4,2)}\")\n",
    "\n"
   ]
  },
  {
   "cell_type": "markdown",
   "metadata": {},
   "source": [
    "## Challenge 2\n",
    "\n",
    "You want to go on picnic on Saturday. You hate rain, and would know to plan your weekend. To help you make a decision, you gather the following data about rainy days:\n",
    "\n",
    "* 40% of all days are cloudy.\n",
    "* About 50% of cloudy days are rainy. \n",
    "* About 20% of non-cloudy days are rainy.\n",
    "\n",
    "What is the chance of rain during next Saturday?"
   ]
  },
  {
   "cell_type": "code",
   "execution_count": 2,
   "metadata": {},
   "outputs": [
    {
     "name": "stdout",
     "output_type": "stream",
     "text": [
      "La probabilidad de que llueva el sábado es : 0.32\n"
     ]
    }
   ],
   "source": [
    "\"\"\"\n",
    "your solution here\n",
    "\"\"\"\n",
    "\n",
    "print(f\"La probabilidad de que llueva el sábado es : {.4*.5+.6*.2}\")"
   ]
  },
  {
   "cell_type": "markdown",
   "metadata": {},
   "source": [
    "## Challenge 3\n",
    "\n",
    "A and B are events of a probability such that $P(A) = 0.3$, $P(B) = 0.6$ and $P(A \\cap B) = 0.1$\n",
    "\n",
    "Which of the following statements are true?  \n",
    "**HINT: draw a big Venn Diagram by your side**  \n",
    "* $P(\\overline{A}) = 0.7$\n",
    "* $P(A \\cup B) = 0.6$\n",
    "* $P(A \\cap \\overline{B}) = 0.2$\n",
    "* $P(A \\cup \\overline{A}) = 1$  \n",
    "* $P(A \\cap (B \\cup \\overline{B})) = 0.4$\n",
    "* $P(\\overline{A} \\cap \\overline{B}) = 0.3$\n",
    "* $P(\\overline{A \\cap B}) = 0.9$"
   ]
  },
  {
   "cell_type": "markdown",
   "metadata": {},
   "source": [
    "$P(\\overline{A}) = 0.7$  True:1-0.3 = 0.7\n",
    "\n",
    "$P(A \\cup B) = 0.8$  False:0.3+0.6-0.1=0.8  \n",
    "\n",
    "$P(A \\cap \\overline{B}) = 0.2$  True: 0.3 - 0.1 = 0.2 \n",
    "\n",
    "$P(A \\cup \\overline{A}) = 1$  True:  0.3 + 0.7 = 1\n",
    "\n",
    "$P(A \\cap (B \\cup \\overline{B})) = 0.3$  True:  0.3\n",
    "\n",
    "$P(\\overline{A} \\cap \\overline{B}) = 0.2$  False:  1-(0.3+0.6-0.1) = 0.2\n",
    "\n",
    "$P(\\overline{A \\cap B}) = 0.9$  True: 1 - 0.1 = 0.9"
   ]
  },
  {
   "cell_type": "markdown",
   "metadata": {},
   "source": [
    "## Challenge 4\n",
    "\n",
    " * If someone flies to China, the probability of getting Covid is 1%  \n",
    " * If someone flies to Italy, the probability of getting Covid is 20%  \n",
    "\n",
    "I roll 1 dice with numbers 1, 2, 3, 4, 5, 6:  \n",
    " * If 1: I fly to Italy\n",
    " * If not 1: I fly to China\n",
    "\n",
    "During my trip, I got Covid. What is the probability that I flew to China?"
   ]
  },
  {
   "cell_type": "code",
   "execution_count": 3,
   "metadata": {},
   "outputs": [],
   "source": [
    "# your code here"
   ]
  },
  {
   "cell_type": "code",
   "execution_count": 4,
   "metadata": {},
   "outputs": [
    {
     "name": "stdout",
     "output_type": "stream",
     "text": [
      "Probabilidad de coger covid en China = 0.0083\n",
      "Probabilidad de coger covid en Italia = 0.0333\n",
      "Probabilidad de coger covid = 0.0416\n",
      "Si he cogido el covid, tiene una probabilidad del 0.2 de que haya sido en China.\n"
     ]
    }
   ],
   "source": [
    "covid_china = round((5/6)*(1/100),4)\n",
    "covid_italia = round((1/6)*(20/100),4)\n",
    "covid = round(covid_china + covid_italia, 4)\n",
    "\n",
    "print(f\"Probabilidad de coger covid en China = {covid_china}\")\n",
    "print(f\"Probabilidad de coger covid en Italia = {covid_italia}\")\n",
    "print(f\"Probabilidad de coger covid = {covid}\")\n",
    "\n",
    "print(f\"Si he cogido el covid, tiene una probabilidad del {round(covid_china/covid,2)} de que haya sido en China.\")"
   ]
  },
  {
   "cell_type": "markdown",
   "metadata": {},
   "source": [
    "## BONUS\n",
    "\n",
    "You roll 2 dice. What is the probability that the sum of the numbers is 7? And 8? And 9? Then simulate 10000 times and draw a countplot."
   ]
  },
  {
   "cell_type": "markdown",
   "metadata": {},
   "source": [
    "your explanation here"
   ]
  },
  {
   "cell_type": "code",
   "execution_count": 18,
   "metadata": {},
   "outputs": [],
   "source": [
    "import random\n",
    "import seaborn as sns\n",
    "import pandas as pd"
   ]
  },
  {
   "cell_type": "code",
   "execution_count": 6,
   "metadata": {},
   "outputs": [],
   "source": [
    "def contador(numero, tiradas):\n",
    "    '''\n",
    "    Esta funcion te dice que probabilidad hay de que tirando dos dados den un numero deseado.\n",
    "    Args:\n",
    "        -numero: numero que quieres que sumen los dados\n",
    "        -Tiradas: numero de veces que quieres que se tiren los dados\n",
    "    '''\n",
    "    \n",
    "    \n",
    "    opciones = [1,2,3,4,5,6]\n",
    "    contador = 0\n",
    "\n",
    "    for i in range(tiradas):\n",
    "        suma = sum(random.choices(opciones, k=2))\n",
    "\n",
    "        if suma == numero:\n",
    "            contador +=1\n",
    "    \n",
    "    prob = round(contador/tiradas,5)\n",
    "    \n",
    "    return prob"
   ]
  },
  {
   "cell_type": "code",
   "execution_count": 7,
   "metadata": {},
   "outputs": [],
   "source": [
    "def frecuencias(numero, tiradas, barras):\n",
    "    '''\n",
    "    Esta funcion te devuelve la probabilida en cada tirada de que te salga la sima de un numero deseado.\n",
    "    Args:\n",
    "        -numero: numero que quieres que sumen los dados\n",
    "        -nombre: nombre que quieres que tenga la lista en la que guardas los valores\n",
    "        -tiradas: numero de tiradas\n",
    "        -barras: numero de barras\n",
    "    '''\n",
    "    opciones = [1,2,3,4,5,6]\n",
    "    frec = []\n",
    "    dados = []\n",
    "    \n",
    "    for i in range(tiradas):\n",
    "        dados.append(sum(random.choices(opciones, k=2)))\n",
    "        frecuencia = dados.count(7) / len(dados)\n",
    "        frec.append(frecuencia)\n",
    "    \n",
    "    print(f\"La probabilidad de que los dados sumen {numero} despues de 10000 tiradas es : {contador(numero,10_000)}\")\n",
    "    return sns.histplot(frec, bins=barras)\n"
   ]
  },
  {
   "cell_type": "code",
   "execution_count": 41,
   "metadata": {},
   "outputs": [],
   "source": [
    "opciones = [1,2,3,4,5,6]\n",
    "c1 = 0\n",
    "c2 = 0\n",
    "c3 = 0\n",
    "c4 = 0\n",
    "c5 = 0\n",
    "c6 = 0\n",
    "c7 = 0\n",
    "c8 = 0\n",
    "c9 = 0\n",
    "c10 = 0\n",
    "c11 = 0\n",
    "c12 = 0\n",
    "dicc = {}\n",
    "\n",
    "for i in range(10_000):\n",
    "    suma = sum(random.choices(opciones, k=2))\n",
    "\n",
    "    if suma == 2:\n",
    "        c2 +=1\n",
    "    elif suma == 3:\n",
    "        c3 +=1\n",
    "    elif suma == 4:\n",
    "        c4 +=1\n",
    "    elif suma == 5:\n",
    "        c5 +=1\n",
    "    elif suma == 6:\n",
    "        c6 +=1\n",
    "    elif suma == 7:\n",
    "        c7 +=1\n",
    "    elif suma == 8:\n",
    "        c8 +=1\n",
    "    elif suma == 9:\n",
    "        c9 +=1\n",
    "    elif suma == 10:\n",
    "        c10 +=1\n",
    "    elif suma == 11:\n",
    "        c11 +=1\n",
    "    elif suma == 12:\n",
    "        c12 +=1\n",
    "        \n",
    "dicc[2]=c2\n",
    "dicc[3]=c3\n",
    "dicc[4]=c4\n",
    "dicc[5]=c5\n",
    "dicc[6]=c6\n",
    "dicc[7]=c7\n",
    "dicc[8]=c8\n",
    "dicc[9]=c9\n",
    "dicc[10]=c10\n",
    "dicc[11]=c11\n",
    "dicc[12]=c12\n",
    "\n",
    "freq = pd.DataFrame.from_dict(dicc, orient='index').reset_index()\n"
   ]
  },
  {
   "cell_type": "code",
   "execution_count": 42,
   "metadata": {},
   "outputs": [
    {
     "data": {
      "text/plain": [
       "<AxesSubplot:ylabel='0'>"
      ]
     },
     "execution_count": 42,
     "metadata": {},
     "output_type": "execute_result"
    },
    {
     "data": {
      "image/png": "[encoded data removed]",
      "text/plain": [
       "<Figure size 432x288 with 1 Axes>"
      ]
     },
     "metadata": {
      "needs_background": "light"
     },
     "output_type": "display_data"
    }
   ],
   "source": [
    "sns.barplot(x=freq.index, y=freq[0])"
   ]
  },
  {
   "cell_type": "markdown",
   "metadata": {},
   "source": [
    "## Probabilidad de que la suma sea `7`"
   ]
  },
  {
   "cell_type": "code",
   "execution_count": 43,
   "metadata": {},
   "outputs": [
    {
     "name": "stdout",
     "output_type": "stream",
     "text": [
      "La probabilidad de que los dados sumen 7 despues de 10000 tiradas es : 0.1727\n"
     ]
    },
    {
     "data": {
      "text/plain": [
       "<AxesSubplot:ylabel='Count'>"
      ]
     },
     "execution_count": 43,
     "metadata": {},
     "output_type": "execute_result"
    },
    {
     "data": {
      "image/png": "[encoded data removed]",
      "text/plain": [
       "<Figure size 432x288 with 1 Axes>"
      ]
     },
     "metadata": {
      "needs_background": "light"
     },
     "output_type": "display_data"
    }
   ],
   "source": [
    "frecuencias(7,10_000,100)\n"
   ]
  },
  {
   "cell_type": "markdown",
   "metadata": {},
   "source": [
    "## Probabilidad de que la suma sea `8`"
   ]
  },
  {
   "cell_type": "code",
   "execution_count": 9,
   "metadata": {},
   "outputs": [
    {
     "name": "stdout",
     "output_type": "stream",
     "text": [
      "La probabilidad de que los dados sumen 8 despues de 10000 tiradas es : 0.1371\n"
     ]
    },
    {
     "data": {
      "text/plain": [
       "<AxesSubplot:ylabel='Count'>"
      ]
     },
     "execution_count": 9,
     "metadata": {},
     "output_type": "execute_result"
    },
    {
     "data": {
      "image/png": "[encoded data removed]",
      "text/plain": [
       "<Figure size 432x288 with 1 Axes>"
      ]
     },
     "metadata": {
      "needs_background": "light"
     },
     "output_type": "display_data"
    }
   ],
   "source": [
    "frecuencias(8,10_000,100)"
   ]
  },
  {
   "cell_type": "markdown",
   "metadata": {},
   "source": [
    "## Probabilidad de que la suma sea `9`"
   ]
  },
  {
   "cell_type": "code",
   "execution_count": 10,
   "metadata": {},
   "outputs": [
    {
     "name": "stdout",
     "output_type": "stream",
     "text": [
      "La probabilidad de que los dados sumen 9 despues de 10000 tiradas es : 0.1167\n"
     ]
    },
    {
     "data": {
      "text/plain": [
       "<AxesSubplot:ylabel='Count'>"
      ]
     },
     "execution_count": 10,
     "metadata": {},
     "output_type": "execute_result"
    },
    {
     "data": {
      "image/png": "[encoded data removed]",
      "text/plain": [
       "<Figure size 432x288 with 1 Axes>"
      ]
     },
     "metadata": {
      "needs_background": "light"
     },
     "output_type": "display_data"
    }
   ],
   "source": [
    "frecuencias(9,10_000,100)"
   ]
  },
  {
   "cell_type": "code",
   "execution_count": null,
   "metadata": {},
   "outputs": [],
   "source": []
  }
 ],
 "metadata": {
  "kernelspec": {
   "display_name": "Python 3",
   "language": "python",
   "name": "python3"
  },
  "language_info": {
   "codemirror_mode": {
    "name": "ipython",
    "version": 3
   },
   "file_extension": ".py",
   "mimetype": "text/x-python",
   "name": "python",
   "nbconvert_exporter": "python",
   "pygments_lexer": "ipython3",
   "version": "3.8.5"
  },
  "toc": {
   "base_numbering": 1,
   "nav_menu": {},
   "number_sections": false,
   "sideBar": true,
   "skip_h1_title": false,
   "title_cell": "Table of Contents",
   "title_sidebar": "Contents",
   "toc_cell": false,
   "toc_position": {
    "height": "calc(100% - 180px)",
    "left": "10px",
    "top": "150px",
    "width": "296.475px"
   },
   "toc_section_display": true,
   "toc_window_display": false
  },
  "varInspector": {
   "cols": {
    "lenName": 16,
    "lenType": 16,
    "lenVar": 40
   },
   "kernels_config": {
    "python": {
     "delete_cmd_postfix": "",
     "delete_cmd_prefix": "del ",
     "library": "var_list.py",
     "varRefreshCmd": "print(var_dic_list())"
    },
    "r": {
     "delete_cmd_postfix": ") ",
     "delete_cmd_prefix": "rm(",
     "library": "var_list.r",
     "varRefreshCmd": "cat(var_dic_list()) "
    }
   },
   "types_to_exclude": [
    "module",
    "function",
    "builtin_function_or_method",
    "instance",
    "_Feature"
   ],
   "window_display": false
  }
 },
 "nbformat": 4,
 "nbformat_minor": 2
}
