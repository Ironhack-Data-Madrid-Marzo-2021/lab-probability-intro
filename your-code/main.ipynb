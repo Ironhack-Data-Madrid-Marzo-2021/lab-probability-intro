{
 "cells": [
  {
   "cell_type": "markdown",
   "metadata": {},
   "source": [
    "# Probability"
   ]
  },
  {
   "cell_type": "markdown",
   "metadata": {},
   "source": [
    "## Challenge 1\n",
    "There is a box with 10 white balls, 12 red balls and 8 black balls. Calculate the probability of:\n",
    "* Taking a white ball out.\n",
    "* Taking a white ball on first extraction and a black ball out on second extraction without replacing the first one.\n",
    "* Taking a white ball on first extraction and a black ball out on second extraction replacing the first one.\n",
    "* Taking 3 balls and them being all different colours."
   ]
  },
  {
   "cell_type": "markdown",
   "metadata": {},
   "source": [
    "* $P(W)= 10/30$  **Primera pregunta**\n",
    "* $P(B)= 8/30$\n",
    "* $P(R)= 12/30$\n",
    "\n",
    "* $P(W \\cap B) = P(W) * P(B|W) = \\frac {10}{30} * \\frac{8}{29} \\sim 0.092$  **Segunda pregunta**\n",
    "\n",
    "* $P(W \\cap B)=P(W) * P(B) = \\frac {10}{30} * \\frac{8}{30} \\sim 0.088$  **Tercera pregunta**\n",
    "\n",
    "* $P(W \\cap R \\cap B) = P(W) * P(B|W) * P(WR|B) = \\frac {10}{30} * \\frac{8}{29} * \\frac {12}{28} \\sim 0.038$  **Cuarta pregunta**"
   ]
  },
  {
   "cell_type": "markdown",
   "metadata": {},
   "source": [
    "## Challenge 2\n",
    "\n",
    "You want to go on picnic on Saturday. You hate rain, and would know to plan your weekend. To help you make a decision, you gather the following data about rainy days:\n",
    "\n",
    "* 40% of all days are cloudy.\n",
    "* About 50% of cloudy days are rainy. \n",
    "* About 20% of non-cloudy days are rainy.\n",
    "\n",
    "What is the chance of rain during next Saturday?"
   ]
  },
  {
   "cell_type": "markdown",
   "metadata": {},
   "source": [
    "P(Nublado)= P(C)0.4\n",
    "P(NoNublado)=P(S) 0.6 \n",
    "\n",
    "P(lluvia)=P(R) cuando P(Nublado) ocurre= 0.5\n",
    "P(no lluvia) cuadno P(nublado) ocurre= 0.5 \n",
    "\n",
    "P(lluvia) cuando P(NoNublado) ocurre= 0.2\n",
    "P(no lluvia) cuando P(NoNublado) ocurre= 0.8\n",
    "\n",
    "\n",
    "P(lluevaelsabada)= P(Lluvia) estando nublado + P(lluvia) no estando nublado = 0.4 * 0.5 + 0.6 * 0.2 = 0.32\n",
    "\n",
    "\n"
   ]
  },
  {
   "cell_type": "markdown",
   "metadata": {},
   "source": [
    "$P(llueva) = P(C) * P(R | C) + P(S) * P(R | S)$\n",
    "$=0.4 * 0.5 + 0.6 * 0.2 = 0.32$"
   ]
  },
  {
   "cell_type": "markdown",
   "metadata": {},
   "source": [
    "## Challenge 3\n",
    "\n",
    "A and B are events of a probability such that $P(A) = 0.3$, $P(B) = 0.6$ and $P(A \\cap B) = 0.1$\n",
    "\n",
    "Which of the following statements are true?  \n",
    "**HINT: draw a big Venn Diagram by your side**  \n",
    "* $P(\\overline{A}) = 0.7$\n",
    "* $P(A \\cup B) = 0.6$\n",
    "* $P(A \\cap \\overline{B}) = 0.2$\n",
    "* $P(A \\cup \\overline{A}) = 1$  \n",
    "* $P(A \\cap (B \\cup \\overline{B})) = 0.4$\n",
    "* $P(\\overline{A} \\cap \\overline{B}) = 0.3$\n",
    "* $P(\\overline{A \\cap B}) = 0.9$"
   ]
  },
  {
   "cell_type": "markdown",
   "metadata": {},
   "source": [
    "\n",
    "1. True:  $P(\\overline{A}) = 1 -(P{A})$\n",
    "\n",
    "2. False: $P(A \\cup B) = (P(A) + P(B)) - P(A \\cap B)= (0.3 + 0.6) - 0.1= 0.8$\n",
    "\n",
    "3. True:  $P(A \\cap \\overline{B})= P(A) + P( A\\cap B) = 0.3 -0.1$\n",
    "\n",
    "4. True:  $P(A \\cup \\overline{A}) = 1$:  **Cualquier posibilidad y su negación abarcan todas las posibilidades.**\n",
    "\n",
    "5. False: $P(A \\cap (B \\cup \\overline{B}))= P(A)$: **La intersección de A no puede ser mayor que A**\n",
    "\n",
    "6. False: $P(A \\cap (B \\cup \\overline{B})) = 1 - P(A \\cup B) = 0.2$\n",
    "\n",
    "7. True:  $P(\\overline{A \\cap B}) = 1 - P(A \\cap B) = 0.9$"
   ]
  },
  {
   "cell_type": "markdown",
   "metadata": {},
   "source": [
    "## Challenge 4\n",
    "\n",
    " * If someone flies to China, the probability of getting Covid is 1%  \n",
    " * If someone flies to Italy, the probability of getting Covid is 20%  \n",
    "\n",
    "I roll 1 dice with numbers 1, 2, 3, 4, 5, 6:  \n",
    " * If 1: I fly to Italy\n",
    " * If not 1: I fly to China\n",
    "\n",
    "During my trip, I got Covid. What is the probability that I flew to China?"
   ]
  },
  {
   "cell_type": "markdown",
   "metadata": {},
   "source": [
    "* $ P(CH)= \\frac {5}{6}$\n",
    "\n",
    "* $ P(CV|CH) = \\frac {1}{100} * \\frac {5}{6} \\sim 0.008$\n",
    "\n",
    "* $ P(CV|IT)= \\frac {20}{100} * \\frac {1}{6}\\sim 0.333$\n",
    "\n",
    "* $ P(CV)= P(CV|CH) + P(CV|IT)\\sim 0.041$\n",
    "\n",
    " **Solución:**$$ P(CH|CV)={\\frac {P(CV|CH)}{P(CV)}} = \\frac{0.008}{0.041} \\sim 0.2$$\n",
    "\n"
   ]
  },
  {
   "cell_type": "markdown",
   "metadata": {},
   "source": [
    "## BONUS\n",
    "\n",
    "You roll 2 dice. What is the probability that the sum of the numbers is 7? And 8? And 9? Then simulate 10000 times and draw a countplot."
   ]
  },
  {
   "cell_type": "code",
   "execution_count": null,
   "metadata": {},
   "outputs": [],
   "source": [
    "import matplotlib.pyplot as plot\n",
    "import random as rd"
   ]
  },
  {
   "cell_type": "markdown",
   "metadata": {},
   "source": [
    "P(7) = (4+3,3+4,5+2,2+5,6+1,1+6)= 6/36 \n",
    "p(8)= (2+6,6+2,5+3,3+5,4+4)= 5/36\n",
    "P(9)= (6+3,3+6,5+4,4+5)= 4/36"
   ]
  },
  {
   "cell_type": "code",
   "execution_count": 78,
   "metadata": {},
   "outputs": [],
   "source": [
    "list_ = []\n",
    "for n in range(100000):\n",
    "    l=sum(rd.choices([1, 2, 3, 4, 5, 6], k=2))\n",
    "    list_.append (l)"
   ]
  },
  {
   "cell_type": "code",
   "execution_count": 81,
   "metadata": {},
   "outputs": [
    {
     "data": {
      "image/png": "[encoded data removed]",
      "text/plain": [
       "<Figure size 432x288 with 1 Axes>"
      ]
     },
     "metadata": {
      "needs_background": "light"
     },
     "output_type": "display_data"
    }
   ],
   "source": [
    "plot.hist(x=list8, color=\"blue\",bins=11, rwidth=0.7,histtype=\"barstacked\")\n",
    "plot.title(\"Tirando dados\")\n",
    "plot.xlabel(\"Suma\")\n",
    "plot.show() "
   ]
  },
  {
   "cell_type": "markdown",
   "metadata": {},
   "source": [
    "#### La forma del historiograma muestra las posibilidades de que 2 dados sumen determinados números, se puede ver que que se reduce en los extremos y su cúspide se encuentra en el centro, esto se debe a que el subconjunto de números que puede sumar 7 es el mayor, reduciéndose simétricamente hacia los estremos. Es decir, para sumar 7 nos sirven 6 combinaciones, mientras que para sumar 2 o 12 solo nos sirve una tirada que saque 2 dados iguales, 1 o 6 en cada caso"
   ]
  }
 ],
 "metadata": {
  "kernelspec": {
   "display_name": "Python 3",
   "language": "python",
   "name": "python3"
  },
  "language_info": {
   "codemirror_mode": {
    "name": "ipython",
    "version": 3
   },
   "file_extension": ".py",
   "mimetype": "text/x-python",
   "name": "python",
   "nbconvert_exporter": "python",
   "pygments_lexer": "ipython3",
   "version": "3.8.5"
  },
  "toc": {
   "base_numbering": 1,
   "nav_menu": {},
   "number_sections": false,
   "sideBar": true,
   "skip_h1_title": false,
   "title_cell": "Table of Contents",
   "title_sidebar": "Contents",
   "toc_cell": false,
   "toc_position": {
    "height": "calc(100% - 180px)",
    "left": "10px",
    "top": "150px",
    "width": "296.475px"
   },
   "toc_section_display": true,
   "toc_window_display": false
  },
  "varInspector": {
   "cols": {
    "lenName": 16,
    "lenType": 16,
    "lenVar": 40
   },
   "kernels_config": {
    "python": {
     "delete_cmd_postfix": "",
     "delete_cmd_prefix": "del ",
     "library": "var_list.py",
     "varRefreshCmd": "print(var_dic_list())"
    },
    "r": {
     "delete_cmd_postfix": ") ",
     "delete_cmd_prefix": "rm(",
     "library": "var_list.r",
     "varRefreshCmd": "cat(var_dic_list()) "
    }
   },
   "types_to_exclude": [
    "module",
    "function",
    "builtin_function_or_method",
    "instance",
    "_Feature"
   ],
   "window_display": false
  }
 },
 "nbformat": 4,
 "nbformat_minor": 2
}
